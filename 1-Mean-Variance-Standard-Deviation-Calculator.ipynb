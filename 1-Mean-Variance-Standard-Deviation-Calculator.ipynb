{
 "cells": [
  {
   "cell_type": "markdown",
   "metadata": {},
   "source": [
    "<p style='text-align:center; font-size: 36px; color:#0B0B23; font-weight: bold;'>Mean-Variance-Stardard Deviation Calculator</p>"
   ]
  },
  {
   "cell_type": "markdown",
   "metadata": {},
   "source": [
    "This notebook/project creates a python function to show the mean, variance, standard deviation, max, min and sum of the rows, columns and elements in a 3x3 matrix. The function recieves a list as parameter that contains 9 digits and creates the matrix itself."
   ]
  },
  {
   "cell_type": "markdown",
   "metadata": {},
   "source": [
    "### Let's start"
   ]
  },
  {
   "cell_type": "markdown",
   "metadata": {},
   "source": [
    "First off, let's import numpy"
   ]
  },
  {
   "cell_type": "code",
   "execution_count": 1,
   "metadata": {},
   "outputs": [],
   "source": [
    "import numpy as np"
   ]
  },
  {
   "cell_type": "markdown",
   "metadata": {},
   "source": [
    "Now let's write the function"
   ]
  },
  {
   "cell_type": "code",
   "execution_count": 2,
   "metadata": {},
   "outputs": [],
   "source": [
    "def calculate(list):\n",
    "\n",
    "    # Check if the parameters contain nine numbers\n",
    "    if len(list) != 9:\n",
    "        raise ValueError('List must contain nine numbers.')\n",
    "\n",
    "    list = np.array(list)\n",
    "    list = list.reshape((3,3))\n",
    "    calculations = {\n",
    "        'mean': [\n",
    "            list.mean(axis=0).tolist(),\n",
    "            list.mean(axis=1).tolist(),\n",
    "            list.mean().tolist()\n",
    "        ],\n",
    "        'variance': [\n",
    "            list.var(axis=0).tolist(),\n",
    "            list.var(axis=1).tolist(),\n",
    "            list.var().tolist()\n",
    "        ],\n",
    "        'standard deviation': [\n",
    "            list.std(axis=0).tolist(),\n",
    "            list.std(axis=1).tolist(),\n",
    "            list.std().tolist()\n",
    "        ],\n",
    "        'max': [\n",
    "            list.max(axis=0).tolist(),\n",
    "            list.max(axis=1).tolist(),\n",
    "            list.max().tolist()\n",
    "        ],\n",
    "        'min': [\n",
    "            list.min(axis=0).tolist(),\n",
    "            list.min(axis=1).tolist(),\n",
    "            list.min().tolist()\n",
    "        ],\n",
    "        'sum': [\n",
    "            list.sum(axis=0).tolist(),\n",
    "            list.sum(axis=1).tolist(),\n",
    "            list.sum().tolist()\n",
    "        ]\n",
    "    }\n",
    "\n",
    "    return calculations"
   ]
  },
  {
   "cell_type": "markdown",
   "metadata": {},
   "source": [
    "### Let's test it"
   ]
  },
  {
   "cell_type": "markdown",
   "metadata": {},
   "source": [
    "Trying to pass more or less numbers"
   ]
  },
  {
   "cell_type": "code",
   "execution_count": 3,
   "metadata": {},
   "outputs": [
    {
     "ename": "ValueError",
     "evalue": "List must contain nine numbers.",
     "output_type": "error",
     "traceback": [
      "\u001b[1;31m---------------------------------------------------------------------------\u001b[0m",
      "\u001b[1;31mValueError\u001b[0m                                Traceback (most recent call last)",
      "Cell \u001b[1;32mIn [3], line 2\u001b[0m\n\u001b[0;32m      1\u001b[0m wrong_list \u001b[39m=\u001b[39m [\u001b[39m0\u001b[39m,\u001b[39m1\u001b[39m,\u001b[39m2\u001b[39m,\u001b[39m3\u001b[39m,\u001b[39m4\u001b[39m,\u001b[39m5\u001b[39m,\u001b[39m6\u001b[39m,\u001b[39m7\u001b[39m,\u001b[39m8\u001b[39m,\u001b[39m9\u001b[39m]\n\u001b[1;32m----> 2\u001b[0m calculate(wrong_list)\n",
      "Cell \u001b[1;32mIn [2], line 5\u001b[0m, in \u001b[0;36mcalculate\u001b[1;34m(list)\u001b[0m\n\u001b[0;32m      1\u001b[0m \u001b[39mdef\u001b[39;00m \u001b[39mcalculate\u001b[39m(\u001b[39mlist\u001b[39m):\n\u001b[0;32m      2\u001b[0m \n\u001b[0;32m      3\u001b[0m     \u001b[39m# Check if the parameters contain nine numbers\u001b[39;00m\n\u001b[0;32m      4\u001b[0m     \u001b[39mif\u001b[39;00m \u001b[39mlen\u001b[39m(\u001b[39mlist\u001b[39m) \u001b[39m!=\u001b[39m \u001b[39m9\u001b[39m:\n\u001b[1;32m----> 5\u001b[0m         \u001b[39mraise\u001b[39;00m \u001b[39mValueError\u001b[39;00m(\u001b[39m'\u001b[39m\u001b[39mList must contain nine numbers.\u001b[39m\u001b[39m'\u001b[39m)\n\u001b[0;32m      7\u001b[0m     \u001b[39mlist\u001b[39m \u001b[39m=\u001b[39m np\u001b[39m.\u001b[39marray(\u001b[39mlist\u001b[39m)\n\u001b[0;32m      8\u001b[0m     \u001b[39mlist\u001b[39m \u001b[39m=\u001b[39m \u001b[39mlist\u001b[39m\u001b[39m.\u001b[39mreshape((\u001b[39m3\u001b[39m,\u001b[39m3\u001b[39m))\n",
      "\u001b[1;31mValueError\u001b[0m: List must contain nine numbers."
     ]
    }
   ],
   "source": [
    "wrong_list = [0,1,2,3,4,5,6,7,8,9]\n",
    "calculate(wrong_list)"
   ]
  },
  {
   "cell_type": "code",
   "execution_count": 4,
   "metadata": {},
   "outputs": [
    {
     "ename": "ValueError",
     "evalue": "List must contain nine numbers.",
     "output_type": "error",
     "traceback": [
      "\u001b[1;31m---------------------------------------------------------------------------\u001b[0m",
      "\u001b[1;31mValueError\u001b[0m                                Traceback (most recent call last)",
      "Cell \u001b[1;32mIn [4], line 2\u001b[0m\n\u001b[0;32m      1\u001b[0m wrong_list\u001b[39m.\u001b[39mclear()\n\u001b[1;32m----> 2\u001b[0m calculate(wrong_list)\n",
      "Cell \u001b[1;32mIn [2], line 5\u001b[0m, in \u001b[0;36mcalculate\u001b[1;34m(list)\u001b[0m\n\u001b[0;32m      1\u001b[0m \u001b[39mdef\u001b[39;00m \u001b[39mcalculate\u001b[39m(\u001b[39mlist\u001b[39m):\n\u001b[0;32m      2\u001b[0m \n\u001b[0;32m      3\u001b[0m     \u001b[39m# Check if the parameters contain nine numbers\u001b[39;00m\n\u001b[0;32m      4\u001b[0m     \u001b[39mif\u001b[39;00m \u001b[39mlen\u001b[39m(\u001b[39mlist\u001b[39m) \u001b[39m!=\u001b[39m \u001b[39m9\u001b[39m:\n\u001b[1;32m----> 5\u001b[0m         \u001b[39mraise\u001b[39;00m \u001b[39mValueError\u001b[39;00m(\u001b[39m'\u001b[39m\u001b[39mList must contain nine numbers.\u001b[39m\u001b[39m'\u001b[39m)\n\u001b[0;32m      7\u001b[0m     \u001b[39mlist\u001b[39m \u001b[39m=\u001b[39m np\u001b[39m.\u001b[39marray(\u001b[39mlist\u001b[39m)\n\u001b[0;32m      8\u001b[0m     \u001b[39mlist\u001b[39m \u001b[39m=\u001b[39m \u001b[39mlist\u001b[39m\u001b[39m.\u001b[39mreshape((\u001b[39m3\u001b[39m,\u001b[39m3\u001b[39m))\n",
      "\u001b[1;31mValueError\u001b[0m: List must contain nine numbers."
     ]
    }
   ],
   "source": [
    "wrong_list.clear()\n",
    "calculate(wrong_list)"
   ]
  },
  {
   "cell_type": "markdown",
   "metadata": {},
   "source": [
    "Now test if actually works"
   ]
  },
  {
   "cell_type": "code",
   "execution_count": 5,
   "metadata": {},
   "outputs": [
    {
     "data": {
      "text/plain": [
       "{'mean': [[3.0, 4.0, 5.0], [1.0, 4.0, 7.0], 4.0],\n",
       " 'variance': [[6.0, 6.0, 6.0],\n",
       "  [0.6666666666666666, 0.6666666666666666, 0.6666666666666666],\n",
       "  6.666666666666667],\n",
       " 'standard deviation': [[2.449489742783178,\n",
       "   2.449489742783178,\n",
       "   2.449489742783178],\n",
       "  [0.816496580927726, 0.816496580927726, 0.816496580927726],\n",
       "  2.581988897471611],\n",
       " 'max': [[6, 7, 8], [2, 5, 8], 8],\n",
       " 'min': [[0, 1, 2], [0, 3, 6], 0],\n",
       " 'sum': [[9, 12, 15], [3, 12, 21], 36]}"
      ]
     },
     "execution_count": 5,
     "metadata": {},
     "output_type": "execute_result"
    }
   ],
   "source": [
    "right_list = [0,1,2,3,4,5,6,7,8]\n",
    "calculate(right_list)"
   ]
  },
  {
   "cell_type": "markdown",
   "metadata": {},
   "source": [
    "### Let's analyze if it's right\n",
    "\n",
    "<hr>\n",
    "\n",
    "It turned our 2d array into a 3 dimension one:\n",
    "\n",
    "[0, 1, 2]\n",
    "[3, 4, 5]\n",
    "[6, 7, 8]\n",
    "\n",
    "<hr>\n",
    "\n",
    "Mean in the axis 0 (columns):\n",
    "\n",
    "col 1 = [0, 3, 6]; mean = 3\n",
    "col 2 = [1, 4, 7]; mean = 4\n",
    "col 3 = [2, 5, 8]; mean = 5\n",
    "\n",
    "Mean in the axis 1 (rows):\n",
    "\n",
    "row 1 = [0, 1, 2]; mean = 1\n",
    "row 2 = [3, 4, 5]; mean = 4\n",
    "row 3 = [6, 7, 8]; mean = 7\n",
    "\n",
    "Mean of all numbers in the matrix:\n",
    "\n",
    "list = [0, 1, 2, 3, 4, 5, 6, 7, 8]; mean = 4\n",
    "\n",
    "<hr>\n",
    "\n",
    "Variance in the axis 0 (columns):\n",
    "\n",
    "col 1 = [0, 3, 6]; variance = 6\n",
    "col 2 = [1, 4, 7]; variance = 6\n",
    "col 3 = [2, 5, 8]; variance = 6\n",
    "\n",
    "Variance in the axis 1 (rows):\n",
    "\n",
    "row 1 = [0, 1, 2]; variance = 0.66\n",
    "row 2 = [3, 4, 5]; variance = 0.66\n",
    "row 3 = [6, 7, 8]; variance = 0.66\n",
    "\n",
    "Variance of all numbers in the matrix:\n",
    "\n",
    "list = [0, 1, 2, 3, 4, 5, 6, 7, 8]; variance = 6.66\n",
    "\n",
    "<hr>\n",
    "\n",
    "Standard Deviation in the axis 0 (columns):\n",
    "\n",
    "col 1 = [0, 3, 6]; std = 2.45\n",
    "col 2 = [1, 4, 7]; std = 2.45\n",
    "col 3 = [2, 5, 8]; std = 2.45\n",
    "\n",
    "Standard Deviation in the axis 1 (rows):\n",
    "\n",
    "row 1 = [0, 1, 2]; std = 0.82\n",
    "row 2 = [3, 4, 5]; std = 0.82\n",
    "row 3 = [6, 7, 8]; std = 0.82\n",
    "\n",
    "Standard Deviation of all numbers in the matrix:\n",
    "\n",
    "list = [0, 1, 2, 3, 4, 5, 6, 7, 8]; std = 2.60\n",
    "\n",
    "<hr>\n",
    "\n",
    "Highest number in the axis 0 (columns):\n",
    "\n",
    "col 1 = [0, 3, 6]; max = 6\n",
    "col 2 = [1, 4, 7]; max = 7\n",
    "col 3 = [2, 5, 8]; max = 8\n",
    "\n",
    "Highest number in the axis 1 (rows):\n",
    "\n",
    "row 1 = [0, 1, 2]; max = 2\n",
    "row 2 = [3, 4, 5]; max = 5\n",
    "row 3 = [6, 7, 8]; max = 8\n",
    "\n",
    "Highest of all numbers in the matrix:\n",
    "\n",
    "list = [0, 1, 2, 3, 4, 5, 6, 7, 8]; max = 8\n",
    "\n",
    "<hr>\n",
    "\n",
    "Lowest number in the axis 0 (columns):\n",
    "\n",
    "col 1 = [0, 3, 6]; min = 0\n",
    "col 2 = [1, 4, 7]; min = 1\n",
    "col 3 = [2, 5, 8]; min = 2\n",
    "\n",
    "Lowest number in the axis 1 (rows):\n",
    "\n",
    "row 1 = [0, 1, 2]; min = 0\n",
    "row 2 = [3, 4, 5]; min = 3\n",
    "row 3 = [6, 7, 8]; min = 6\n",
    "\n",
    "Lowest of all numbers in the matrix:\n",
    "\n",
    "list = [0, 1, 2, 3, 4, 5, 6, 7, 8]; min = 0\n",
    "\n",
    "<hr>\n",
    "\n",
    "Sum of all numbers in the axis 0 (columns):\n",
    "\n",
    "col 1 = [0, 3, 6]; sum = 9\n",
    "col 2 = [1, 4, 7]; sum = 12\n",
    "col 3 = [2, 5, 8]; sum = 15\n",
    "\n",
    "Sum of all numbers in the axis 1 (rows):\n",
    "\n",
    "row 1 = [0, 1, 2]; sum = 3\n",
    "row 2 = [3, 4, 5]; sum = 12\n",
    "row 3 = [6, 7, 8]; sum = 21\n",
    "\n",
    "Sum of all numbers in the matrix:\n",
    "\n",
    "list = [0, 1, 2, 3, 4, 5, 6, 7, 8]; sum = 36\n",
    "\n",
    "<hr>\n",
    "\n",
    "### It's Right!"
   ]
  }
 ],
 "metadata": {
  "kernelspec": {
   "display_name": "Python 3.10.2 ('venv': venv)",
   "language": "python",
   "name": "python3"
  },
  "language_info": {
   "codemirror_mode": {
    "name": "ipython",
    "version": 3
   },
   "file_extension": ".py",
   "mimetype": "text/x-python",
   "name": "python",
   "nbconvert_exporter": "python",
   "pygments_lexer": "ipython3",
   "version": "3.10.2"
  },
  "orig_nbformat": 4,
  "vscode": {
   "interpreter": {
    "hash": "df566b5ab4f064fcde084cefaa95f042d13391babc710ab0e391e8d7e96f152c"
   }
  }
 },
 "nbformat": 4,
 "nbformat_minor": 2
}
